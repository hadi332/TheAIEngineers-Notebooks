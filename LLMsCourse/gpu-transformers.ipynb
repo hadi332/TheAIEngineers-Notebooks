{
 "cells": [
  {
   "cell_type": "markdown",
   "metadata": {},
   "source": [
    "### Download the dataset\n",
    "https://www.kaggle.com/datasets/ankkur13/edmundsconsumer-car-ratings-and-reviews    "
   ]
  },
  {
   "cell_type": "code",
   "execution_count": 6,
   "metadata": {},
   "outputs": [],
   "source": [
    "DATA_PATH = \"data-gpu-transformers/Scraped_Car_Review_dodge.csv\"\n",
    "\n",
    "import time\n",
    "from tqdm import tqdm\n",
    "import polars as pl\n",
    "import torch\n",
    "from transformers import (\n",
    "    pipeline,\n",
    "    TextClassificationPipeline,\n",
    ")"
   ]
  },
  {
   "cell_type": "code",
   "execution_count": 7,
   "metadata": {},
   "outputs": [
    {
     "data": {
      "text/plain": [
       "8499"
      ]
     },
     "execution_count": 7,
     "metadata": {},
     "output_type": "execute_result"
    }
   ],
   "source": [
    "reviews_list = pl.read_csv(DATA_PATH)[\"Review\"].to_list()\n",
    "len(reviews_list)\n"
   ]
  },
  {
   "cell_type": "code",
   "execution_count": 8,
   "metadata": {},
   "outputs": [
    {
     "data": {
      "text/plain": [
       "\" It's been a great delivery vehicle for my cafe business good power, economy match easily taken care of. Havent repaired anything or replaced anything but tires and normal maintenance items. Upgraded tires to Michelin LX series helped fuel economy. Would buy another in a second\""
      ]
     },
     "execution_count": 8,
     "metadata": {},
     "output_type": "execute_result"
    }
   ],
   "source": [
    "reviews_list[0]"
   ]
  },
  {
   "cell_type": "code",
   "execution_count": 9,
   "metadata": {},
   "outputs": [],
   "source": [
    "def time_text_classifier(\n",
    "    text_pipeline: TextClassificationPipeline,\n",
    "    texts: list[str],\n",
    "    batch_size: int = 1,\n",
    ") -> None:\n",
    "    \"\"\"Time how long it takes a TextClassificationPipeline\n",
    "       to run inference on a list of texts\"\"\"\n",
    "\n",
    "    texts_generator = (t for t in texts)\n",
    "    pipeline_iterable = tqdm(\n",
    "        text_pipeline(\n",
    "            texts_generator,\n",
    "            batch_size=batch_size,\n",
    "            truncation=True,\n",
    "            max_length=500,\n",
    "        ),\n",
    "        total=len(texts),\n",
    "    )\n",
    "\n",
    "    for result in pipeline_iterable:\n",
    "        pass\n"
   ]
  },
  {
   "cell_type": "code",
   "execution_count": 10,
   "metadata": {},
   "outputs": [
    {
     "name": "stderr",
     "output_type": "stream",
     "text": [
      "Some weights of the model checkpoint at cardiffnlp/twitter-roberta-base-sentiment-latest were not used when initializing RobertaForSequenceClassification: ['roberta.pooler.dense.bias', 'roberta.pooler.dense.weight']\n",
      "- This IS expected if you are initializing RobertaForSequenceClassification from the checkpoint of a model trained on another task or with another architecture (e.g. initializing a BertForSequenceClassification model from a BertForPreTraining model).\n",
      "- This IS NOT expected if you are initializing RobertaForSequenceClassification from the checkpoint of a model that you expect to be exactly identical (initializing a BertForSequenceClassification model from a BertForSequenceClassification model).\n",
      "Some weights of the model checkpoint at cardiffnlp/twitter-roberta-base-sentiment-latest were not used when initializing RobertaForSequenceClassification: ['roberta.pooler.dense.bias', 'roberta.pooler.dense.weight']\n",
      "- This IS expected if you are initializing RobertaForSequenceClassification from the checkpoint of a model trained on another task or with another architecture (e.g. initializing a BertForSequenceClassification model from a BertForPreTraining model).\n",
      "- This IS NOT expected if you are initializing RobertaForSequenceClassification from the checkpoint of a model that you expect to be exactly identical (initializing a BertForSequenceClassification model from a BertForSequenceClassification model).\n"
     ]
    }
   ],
   "source": [
    "model_name = \"cardiffnlp/twitter-roberta-base-sentiment-latest\"\n",
    "sentiment_pipeline_cpu = pipeline(model=model_name, device=-1)\n",
    "sentiment_pipeline_gpu = pipeline(model=model_name, device=0)\n"
   ]
  },
  {
   "cell_type": "code",
   "execution_count": 11,
   "metadata": {},
   "outputs": [
    {
     "name": "stderr",
     "output_type": "stream",
     "text": [
      "100%|██████████| 1000/1000 [01:07<00:00, 14.84it/s]\n"
     ]
    }
   ],
   "source": [
    "time_text_classifier(sentiment_pipeline_cpu, reviews_list[0:1000])"
   ]
  },
  {
   "cell_type": "code",
   "execution_count": 12,
   "metadata": {},
   "outputs": [
    {
     "name": "stderr",
     "output_type": "stream",
     "text": [
      "100%|██████████| 1000/1000 [02:34<00:00,  6.48it/s]\n"
     ]
    }
   ],
   "source": [
    "time_text_classifier(sentiment_pipeline_gpu, reviews_list[0:1000])"
   ]
  },
  {
   "cell_type": "code",
   "execution_count": null,
   "metadata": {},
   "outputs": [],
   "source": [
    "batch_sizes = [1, 2, 4, 8, 10, 12, 15, 20, 50, 100]\n",
    "for batch_size in batch_sizes:\n",
    "    print(f\"Batch size: {batch_size}\")\n",
    "    time_text_classifier(\n",
    "        sentiment_pipeline_gpu,\n",
    "        reviews_list,\n",
    "        batch_size=batch_size\n",
    "    )\n"
   ]
  }
 ],
 "metadata": {
  "kernelspec": {
   "display_name": "venv",
   "language": "python",
   "name": "python3"
  },
  "language_info": {
   "codemirror_mode": {
    "name": "ipython",
    "version": 3
   },
   "file_extension": ".py",
   "mimetype": "text/x-python",
   "name": "python",
   "nbconvert_exporter": "python",
   "pygments_lexer": "ipython3",
   "version": "3.12.7"
  }
 },
 "nbformat": 4,
 "nbformat_minor": 2
}
