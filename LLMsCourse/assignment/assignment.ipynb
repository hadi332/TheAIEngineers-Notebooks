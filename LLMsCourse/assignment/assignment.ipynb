{
 "cells": [
  {
   "cell_type": "code",
   "execution_count": 1,
   "metadata": {},
   "outputs": [
    {
     "name": "stderr",
     "output_type": "stream",
     "text": [
      "/Users/larawehbe/Documents/Lara/Courses/LLMsCourse/Notebooks/venv/lib/python3.12/site-packages/tqdm/auto.py:21: TqdmWarning: IProgress not found. Please update jupyter and ipywidgets. See https://ipywidgets.readthedocs.io/en/stable/user_install.html\n",
      "  from .autonotebook import tqdm as notebook_tqdm\n"
     ]
    }
   ],
   "source": [
    "from datasets import load_dataset\n",
    "import pandas as pd\n",
    "\n",
    "dataset = load_dataset(\"qiaojin/PubMedQA\", \"pqa_artificial\")\n",
    "df = pd.DataFrame(dataset)\n",
    "\n",
    "df = pd.DataFrame(df[\"train\"].tolist())\n",
    "\n"
   ]
  },
  {
   "cell_type": "code",
   "execution_count": null,
   "metadata": {},
   "outputs": [],
   "source": []
  },
  {
   "cell_type": "code",
   "execution_count": 2,
   "metadata": {},
   "outputs": [
    {
     "name": "stdout",
     "output_type": "stream",
     "text": [
      "      pubid                                           question context  \\\n",
      "0  25429730  Are group 2 innate lymphoid cells ( ILC2s ) in...           \n",
      "1  25433161  Does vagus nerve contribute to the development...           \n",
      "2  25445714  Does psammaplin A induce Sirtuin 1-dependent a...           \n",
      "3  25431941  Is methylation of the FGFR2 gene associated wi...           \n",
      "4  25432519  Do tumor-infiltrating immune cell profiles and...           \n",
      "\n",
      "                                         long_answer  \n",
      "0  As ILC2s are elevated in patients with CRSwNP,...  \n",
      "1  Neuronal signals via the hepatic vagus nerve c...  \n",
      "2  PsA significantly inhibited MCF-7/adr cells pr...  \n",
      "3  We identified a novel biologically plausible c...  \n",
      "4  Breast cancer immune cell subpopulation profil...  \n"
     ]
    }
   ],
   "source": [
    "import json\n",
    "\n",
    "def extract_context(context_entry):\n",
    "    \"\"\"Extracts text from context JSON field\"\"\"\n",
    "    if isinstance(context_entry, str):\n",
    "        try:\n",
    "            context_dict = json.loads(context_entry)\n",
    "            return \" \".join(context_dict.get(\"contexts\", []))  # Join all context pieces\n",
    "        except json.JSONDecodeError:\n",
    "            return context_entry  # Return as-is if not JSON formatted\n",
    "    return \"\"\n",
    "# Apply preprocessing\n",
    "df[\"context\"] = df[\"context\"].apply(extract_context)\n",
    "\n",
    "# Select only needed columns\n",
    "df = df[[\"pubid\", \"question\", \"context\", \"long_answer\"]]\n",
    "\n",
    "# Show sample\n",
    "print(df.head())\n"
   ]
  },
  {
   "cell_type": "code",
   "execution_count": 2,
   "metadata": {},
   "outputs": [],
   "source": [
    "import os\n",
    "import pinecone\n",
    "from langchain.embeddings import OpenAIEmbeddings\n",
    "from dotenv import load_dotenv\n",
    "load_dotenv()\n",
    "# Set your OpenAI API Key\n",
    "# os.environ[\"OPENAI_API_KEY\"] = \n",
    "\n",
    "# Initialize Pinecone\n",
    "pc = pinecone.Pinecone(os.environ[\"PINECONE_API_KEY\"])\n",
    "index_name = \"pubmedqa-index\"\n",
    "spec = pinecone.ServerlessSpec(\n",
    "            cloud=\"aws\",\n",
    "            region=\"us-east-1\",\n",
    "        )    \n",
    "if index_name not in pc.list_indexes().names():\n",
    "    pc.create_index(\n",
    "        name=index_name,\n",
    "        dimension=1536,\n",
    "        spec=spec,\n",
    "    )\n",
    "index = pc.Index(index_name)"
   ]
  },
  {
   "cell_type": "code",
   "execution_count": 5,
   "metadata": {},
   "outputs": [
    {
     "name": "stderr",
     "output_type": "stream",
     "text": [
      "/var/folders/qt/8nj7tb591mx9xtqkgz7mjyjh0000gn/T/ipykernel_3505/3299141535.py:5: LangChainDeprecationWarning: The class `OpenAIEmbeddings` was deprecated in LangChain 0.0.9 and will be removed in 1.0. An updated version of the class exists in the :class:`~langchain-openai package and should be used instead. To use it run `pip install -U :class:`~langchain-openai` and import as `from :class:`~langchain_openai import OpenAIEmbeddings``.\n",
      "  embedder = OpenAIEmbeddings()\n",
      "100%|██████████| 32/32 [06:49<00:00, 12.79s/it]\n"
     ]
    }
   ],
   "source": [
    "from langchain.vectorstores import Pinecone\n",
    "from tqdm import tqdm\n",
    "\n",
    "# Initialize OpenAI embedding model\n",
    "embedder = OpenAIEmbeddings()\n",
    "df = df.head(1000)\n",
    "# Convert DataFrame to list of dictionaries for processing\n",
    "documents = df.to_dict(orient=\"records\")\n",
    "# Convert DataFrame to list of dictionaries for processing\n",
    "# documents = df.to_dict(orient=\"records\")\n",
    "\n",
    "# Store batched embeddings and upsert to Pinecone\n",
    "batch_size = 32  # Adjust as needed\n",
    "\n",
    "for i in tqdm(range(0, len(documents), batch_size)):\n",
    "    batch = documents[i:i+batch_size]\n",
    "    \n",
    "    # Extract context texts\n",
    "    batch_texts = [doc[\"context\"] for doc in batch]\n",
    "    \n",
    "    # Generate embeddings for batch\n",
    "    batch_embeddings = embedder.embed_documents(batch_texts)\n",
    "    \n",
    "    # Prepare for Pinecone upsert\n",
    "    to_upsert = [\n",
    "        (str(doc[\"pubid\"]), emb, {\"question\": doc[\"question\"], \"text\": doc[\"long_answer\"]})\n",
    "        for doc, emb in zip(batch, batch_embeddings)\n",
    "    ]\n",
    "    \n",
    "    # Upsert batch to Pinecone\n",
    "    index.upsert(to_upsert)\n"
   ]
  },
  {
   "cell_type": "code",
   "execution_count": 3,
   "metadata": {},
   "outputs": [
    {
     "name": "stderr",
     "output_type": "stream",
     "text": [
      "/var/folders/qt/8nj7tb591mx9xtqkgz7mjyjh0000gn/T/ipykernel_4110/3023108515.py:12: LangChainDeprecationWarning: The class `OpenAIEmbeddings` was deprecated in LangChain 0.0.9 and will be removed in 1.0. An updated version of the class exists in the :class:`~langchain-openai package and should be used instead. To use it run `pip install -U :class:`~langchain-openai` and import as `from :class:`~langchain_openai import OpenAIEmbeddings``.\n",
      "  embeddings = OpenAIEmbeddings()\n"
     ]
    }
   ],
   "source": [
    "from langchain.chains import RetrievalQA\n",
    "from langchain.chat_models import ChatOpenAI\n",
    "from langchain.vectorstores import Pinecone\n",
    "from langchain.embeddings.openai import OpenAIEmbeddings\n",
    "from langchain.prompts import PromptTemplate\n",
    "from langchain_pinecone import PineconeVectorStore\n",
    "\n",
    "# Initialize OpenAI Chat Model\n",
    "llm = ChatOpenAI(model=\"gpt-4o\")\n",
    "\n",
    "# Initialize Pinecone Vector Store\n",
    "embeddings = OpenAIEmbeddings()\n",
    "# vector_store = Pinecone(index, embedder, \"context\")\n",
    "vectorstore = PineconeVectorStore(index_name=index_name, embedding=embeddings)\n",
    "\n",
    "# Use a better retriever\n",
    "question = \"Does vagus nerve contribute to the development of the brain?\"\n",
    "retriever = vectorstore.as_retriever(search_kwargs={\"k\": 10})  # ✅ Use \"context\"\n"
   ]
  },
  {
   "cell_type": "code",
   "execution_count": 4,
   "metadata": {},
   "outputs": [],
   "source": [
    "from langchain.chains import create_retrieval_chain\n",
    "from langchain_core.prompts import ChatPromptTemplate\n",
    "from langchain.chains.combine_documents import create_stuff_documents_chain\n",
    "\n",
    "system_prompt = (\n",
    "            \"You are an expert assistant for biomedical question-answering tasks. \"\n",
    "            \"You will be provided with context retrieved from medical literature, specifically PubMed Open Access Articles. \"\n",
    "            \"Use the provided context to directly answer the question in the most accurate and concise manner possible. \"\n",
    "            \"If the context does not provide sufficient information, state that the specific details are not available in the context.\"\n",
    "            \"Do not include statements about limitations of the context in your response. \"\n",
    "            \"Your answer should sound authoritative and professional, tailored for a medical audience.\"\n",
    "            \"\\n\\n\"\n",
    "            \"Context:\\n{context}\\n\"\n",
    "        )\n",
    "prompt = ChatPromptTemplate.from_messages([\n",
    "            (\"system\", system_prompt),\n",
    "            (\"human\", \"{input}\"),\n",
    "        ])\n",
    "combine_docs_chain = create_stuff_documents_chain(llm, prompt)\n",
    "rag_chain = create_retrieval_chain(vectorstore.as_retriever(), combine_docs_chain)\n",
    "response = rag_chain.invoke({\"input\": \"How does the hepatic vagus nerve influence steatohepatitis and obesity?\"})\n"
   ]
  },
  {
   "cell_type": "code",
   "execution_count": 5,
   "metadata": {},
   "outputs": [
    {
     "data": {
      "text/plain": [
       "{'input': 'How does the hepatic vagus nerve influence steatohepatitis and obesity?',\n",
       " 'context': [Document(id='25443731', metadata={'question': 'Do the effects of ifenprodil on the activity of antidepressant drugs in the forced swim test in mice?'}, page_content='The concomitant administration of certain commonly prescribed antidepressant drugs that affect the serotonergic neurotransmission (i.e., typical tricyclic antidepressants and selective serotonin reuptake inhibitors) with a negative modulator selectively binding to the GluN1/N2B subunits of the NMDA receptor complex (i.e., ifenprodil) may induce a more pronounced antidepressant-like effect than monotherapy. However, these findings still need to be confirmed in further experiments.'),\n",
       "  Document(id='25449582', metadata={'question': 'Is gut microbiome composition associated with temperament during early childhood?'}, page_content='Differences in gut microbiome composition, including alpha diversity, beta diversity, and abundances of specific bacterial species, were observed in association with temperament in toddlers. This study was cross-sectional and observational and, therefore, does not permit determination of the causal direction of effects. However, if bidirectional brain-gut relationships are present in humans in early life, this may represent an opportunity for intervention relevant to physical as well as mental health disorders.'),\n",
       "  Document(id='27500213', metadata={'question': 'Does cyclic Helix B Peptide in Preservation Solution and Autologous Blood Perfusate ameliorate Ischemia-Reperfusion Injury in Isolated Porcine Kidneys?'}, page_content='Cyclic helix B peptide administered into preservation and reperfusion solutions ameliorated renal ischemia-reperfusion injury, which might be associated with decreased apoptosis, inflammation and caspase-3, but increased HSP70. This novel preservation approach using CHBP may be applied in a porcine kidney transplant model and potential human donor kidney preservation.'),\n",
       "  Document(id='27509464', metadata={'question': 'Does rESVERATROL TREATMENT prevent HIPPOCAMAL NEURODEGENERATION IN A RODENT MODEL OF TRAUMATIC BRAIN INJURY?'}, page_content='Our results demonstrated that RVT had a healing effect on neurons after TBI.')],\n",
       " 'answer': 'The specific details regarding the influence of the hepatic vagus nerve on steatohepatitis and obesity are not available in the provided context.'}"
      ]
     },
     "execution_count": 5,
     "metadata": {},
     "output_type": "execute_result"
    }
   ],
   "source": [
    "response"
   ]
  },
  {
   "cell_type": "code",
   "execution_count": 10,
   "metadata": {},
   "outputs": [],
   "source": [
    "response = rag_chain.invoke({\"input\" :\"Is it possible to detect myocarditis before left ventricular dysfunction using ultrasound imaging?\"})"
   ]
  },
  {
   "cell_type": "code",
   "execution_count": 11,
   "metadata": {},
   "outputs": [
    {
     "data": {
      "text/plain": [
       "'Yes, contrast-enhanced ultrasound molecular imaging can detect myocarditis by identifying endothelial inflammation and leukocyte infiltration before there is a detectable decline in left ventricular performance by functional imaging.'"
      ]
     },
     "execution_count": 11,
     "metadata": {},
     "output_type": "execute_result"
    }
   ],
   "source": [
    "response['answer']"
   ]
  },
  {
   "cell_type": "code",
   "execution_count": null,
   "metadata": {},
   "outputs": [],
   "source": []
  }
 ],
 "metadata": {
  "kernelspec": {
   "display_name": "venv",
   "language": "python",
   "name": "python3"
  },
  "language_info": {
   "codemirror_mode": {
    "name": "ipython",
    "version": 3
   },
   "file_extension": ".py",
   "mimetype": "text/x-python",
   "name": "python",
   "nbconvert_exporter": "python",
   "pygments_lexer": "ipython3",
   "version": "3.12.8"
  }
 },
 "nbformat": 4,
 "nbformat_minor": 2
}
