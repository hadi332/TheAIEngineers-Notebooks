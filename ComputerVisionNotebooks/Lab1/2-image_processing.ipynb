{
 "cells": [
  {
   "cell_type": "markdown",
   "metadata": {},
   "source": [
    "### Translation"
   ]
  },
  {
   "cell_type": "code",
   "execution_count": 1,
   "metadata": {},
   "outputs": [],
   "source": [
    "import numpy as np\n",
    "import cv2 as cv"
   ]
  },
  {
   "cell_type": "code",
   "execution_count": 2,
   "metadata": {},
   "outputs": [
    {
     "data": {
      "text/plain": [
       "113"
      ]
     },
     "execution_count": 2,
     "metadata": {},
     "output_type": "execute_result"
    }
   ],
   "source": [
    "image = cv.imread(\"../DATA/colors.jpg\")\n",
    "cv.imshow(\"Original\" , image)\n",
    "cv.waitKey(0)"
   ]
  },
  {
   "cell_type": "code",
   "execution_count": null,
   "metadata": {},
   "outputs": [],
   "source": [
    "M = np.float32([\n",
    "    [1,0,25],\n",
    "    [0,1,50]\n",
    "])\n",
    "shifted = cv.warpAffine(image, M, (image.shape[1],image.shape[0]))\n",
    "cv.imshow(\"Shifted down and right\", shifted)\n",
    "cv.waitKey(0)\n"
   ]
  },
  {
   "cell_type": "code",
   "execution_count": null,
   "metadata": {},
   "outputs": [],
   "source": [
    "M = np.float32([\n",
    "    [1,0,-25],\n",
    "    [0,1,-50]\n",
    "])\n",
    "shifted = cv.warpAffine(image, M, (image.shape[1],image.shape[0]))\n",
    "cv.imshow(\"Shifted up and left\", shifted)\n",
    "cv.waitKey(0)"
   ]
  },
  {
   "cell_type": "code",
   "execution_count": 50,
   "metadata": {},
   "outputs": [],
   "source": [
    "def translate_image(image, x, y):\n",
    "    M = np.float32([[1,0,x], [0,1,y]])\n",
    "    shifted = cv.warpAffine(image, M, (image.shape[1], image.shape[0]))\n",
    "    return shifted"
   ]
  },
  {
   "cell_type": "code",
   "execution_count": null,
   "metadata": {},
   "outputs": [],
   "source": [
    "shited = translate_image(image, -50, 90 )\n",
    "cv.imshow(\"Shifted\", shifted)\n",
    "cv.waitKey(0)"
   ]
  },
  {
   "cell_type": "markdown",
   "metadata": {},
   "source": [
    "### Rotation"
   ]
  },
  {
   "cell_type": "code",
   "execution_count": null,
   "metadata": {},
   "outputs": [],
   "source": [
    "(h,w) = image.shape[:2]\n",
    "center = w//2 , h//2 \n",
    "M = cv.getRotationMatrix2D(center, 45, 0.5)\n",
    "rotated = cv.warpAffine(image, M, (w,h))\n",
    "cv.imshow(\"Rotated by 45 degrees\" , rotated)\n",
    "cv.waitKey(0)"
   ]
  },
  {
   "cell_type": "code",
   "execution_count": null,
   "metadata": {},
   "outputs": [],
   "source": [
    "### Write a function for rotation"
   ]
  },
  {
   "cell_type": "markdown",
   "metadata": {},
   "source": [
    "### Resizing"
   ]
  },
  {
   "cell_type": "code",
   "execution_count": null,
   "metadata": {},
   "outputs": [],
   "source": [
    "h = image.shape[0]\n",
    "w = image.shape[1]\n",
    "r = 50.0 / h \n",
    "print(r)\n",
    "dim = (int(w*r), 50) # (h,w)\n",
    "resized = cv.resize(image, dim, interpolation=cv.INTER_AREA)\n",
    "cv.imshow(\"Resized (Height)\", resized)\n",
    "cv.waitKey(0)"
   ]
  },
  {
   "cell_type": "code",
   "execution_count": 18,
   "metadata": {},
   "outputs": [],
   "source": [
    "import imutils "
   ]
  },
  {
   "cell_type": "code",
   "execution_count": null,
   "metadata": {},
   "outputs": [],
   "source": [
    "resized = imutils.resize(image, height = 100)\n",
    "cv.imshow(\"Resized with Imtuils\" , resized)\n",
    "cv.waitKey(0)"
   ]
  },
  {
   "cell_type": "code",
   "execution_count": null,
   "metadata": {},
   "outputs": [],
   "source": [
    "### Write a function called display_image"
   ]
  },
  {
   "cell_type": "markdown",
   "metadata": {},
   "source": [
    "### Flipping"
   ]
  },
  {
   "cell_type": "code",
   "execution_count": null,
   "metadata": {},
   "outputs": [],
   "source": [
    "flipped = cv.flip(image, 1 )\n",
    "cv.imshow(\"Flipped horizontally\" , flipped)\n",
    "cv.waitKey(0)"
   ]
  },
  {
   "cell_type": "code",
   "execution_count": null,
   "metadata": {},
   "outputs": [],
   "source": [
    "flipped = cv.flip(image, 0 )\n",
    "cv.imshow(\"Flipped Vertically\" , flipped)\n",
    "cv.waitKey(0)"
   ]
  },
  {
   "cell_type": "code",
   "execution_count": null,
   "metadata": {},
   "outputs": [],
   "source": [
    "flipped = cv.flip(image, -1 )\n",
    "cv.imshow(\"Flipped horizontally and Vertically\" , flipped)\n",
    "cv.waitKey(0)"
   ]
  },
  {
   "cell_type": "markdown",
   "metadata": {},
   "source": [
    "### Cropping "
   ]
  },
  {
   "cell_type": "code",
   "execution_count": null,
   "metadata": {},
   "outputs": [],
   "source": [
    "cropped = image[30:120, 240:335]\n",
    "cv.imshow(\"Cropped\" , cropped)\n",
    "cv.waitKey(0)"
   ]
  },
  {
   "cell_type": "markdown",
   "metadata": {},
   "source": [
    "### Arithmetics"
   ]
  },
  {
   "cell_type": "code",
   "execution_count": null,
   "metadata": {},
   "outputs": [],
   "source": [
    "M = np.ones(image.shape, dtype=\"uint8\")*2\n",
    "subtracted = cv.subtract(image, M )\n",
    "cv.imshow(\"Subtracted\" , subtracted)\n",
    "cv.waitKey(0)"
   ]
  },
  {
   "cell_type": "code",
   "execution_count": null,
   "metadata": {},
   "outputs": [],
   "source": [
    "rectangle = np.zeros((300, 300), dtype = \"uint8\")\n",
    "cv.rectangle(rectangle, (25, 25), (275, 275), 255, -1)\n",
    "cv.imshow(\"Rectangle\", rectangle)\n",
    "\n",
    "circle = np.zeros((300, 300), dtype = \"uint8\")\n",
    "cv.circle(circle, (150, 150), 150, 255, -1)\n",
    "cv.imshow(\"Circle\", circle)\n",
    "\n",
    "cv.waitKey(0)"
   ]
  },
  {
   "cell_type": "markdown",
   "metadata": {},
   "source": [
    "### Bitwise operations"
   ]
  },
  {
   "cell_type": "code",
   "execution_count": null,
   "metadata": {},
   "outputs": [],
   "source": [
    "bitwiseAnd = cv.bitwise_and(rectangle, circle)\n",
    "cv.imshow(\"And\" , bitwiseAnd)\n",
    "cv.waitKey(0)"
   ]
  },
  {
   "cell_type": "code",
   "execution_count": null,
   "metadata": {},
   "outputs": [],
   "source": [
    "bitwiseOr = cv.bitwise_or(rectangle, circle)\n",
    "cv.imshow(\"Or\" , bitwiseAnd)\n",
    "cv.waitKey(0)"
   ]
  },
  {
   "cell_type": "code",
   "execution_count": null,
   "metadata": {},
   "outputs": [],
   "source": [
    "bitwiseOr = cv.bitwise_xor(rectangle, circle)\n",
    "cv.imshow(\"xOr\" , bitwiseAnd)\n",
    "cv.waitKey(0)"
   ]
  },
  {
   "cell_type": "code",
   "execution_count": null,
   "metadata": {},
   "outputs": [],
   "source": [
    "bitwiseOr = cv.bitwise_not(rectangle, circle)\n",
    "cv.imshow(\"Not\" , bitwiseAnd)\n",
    "cv.waitKey(0)"
   ]
  },
  {
   "cell_type": "markdown",
   "metadata": {},
   "source": [
    "### Masking"
   ]
  },
  {
   "cell_type": "code",
   "execution_count": 4,
   "metadata": {},
   "outputs": [
    {
     "data": {
      "text/plain": [
       "13"
      ]
     },
     "execution_count": 4,
     "metadata": {},
     "output_type": "execute_result"
    }
   ],
   "source": [
    "mask = np.zeros(image.shape[:2], dtype=\"uint8\")\n",
    "(cX, cY) = image.shape[1] //2 , image.shape[0] // 2 \n",
    "cv.rectangle(mask, (cX - 75, cY-75) , (cX + 75 , cY + 75) , 255 , -1)\n",
    "cv.imshow(\"Mask\" , mask)\n",
    "cv.waitKey(0)"
   ]
  },
  {
   "cell_type": "code",
   "execution_count": 5,
   "metadata": {},
   "outputs": [
    {
     "data": {
      "text/plain": [
       "113"
      ]
     },
     "execution_count": 5,
     "metadata": {},
     "output_type": "execute_result"
    }
   ],
   "source": [
    "masked_image = cv.bitwise_and(image, image , mask=mask )\n",
    "cv.imshow(\"Masked image\" , masked_image)\n",
    "cv.waitKey(0)"
   ]
  },
  {
   "cell_type": "markdown",
   "metadata": {},
   "source": [
    "### Color Spaces"
   ]
  },
  {
   "cell_type": "code",
   "execution_count": 7,
   "metadata": {},
   "outputs": [
    {
     "data": {
      "text/plain": [
       "113"
      ]
     },
     "execution_count": 7,
     "metadata": {},
     "output_type": "execute_result"
    }
   ],
   "source": [
    "\n",
    "gray = cv.cvtColor(image, cv.COLOR_BGR2GRAY)\n",
    "cv.imshow(\"Gray\", gray)\n",
    "\n",
    "hsv = cv.cvtColor(image, cv.COLOR_BGR2HSV)\n",
    "cv.imshow(\"HSV\", hsv)\n",
    "\n",
    "lab = cv.cvtColor(image, cv.COLOR_BGR2LAB)\n",
    "cv.imshow(\"L*a*b*\", lab)\n",
    "cv.waitKey(0)"
   ]
  },
  {
   "cell_type": "markdown",
   "metadata": {},
   "source": [
    "### Histograms\n"
   ]
  },
  {
   "cell_type": "code",
   "execution_count": 9,
   "metadata": {},
   "outputs": [
    {
     "data": {
      "text/plain": [
       "113"
      ]
     },
     "execution_count": 9,
     "metadata": {},
     "output_type": "execute_result"
    }
   ],
   "source": [
    "import matplotlib.pyplot as plt\n",
    "image = cv.imread(\"../DATA/grayscale_image.jpg\")\n",
    "image = cv.cvtColor(image, cv.COLOR_BGR2GRAY)\n",
    "cv.imshow(\"Gray image\" , image)\n",
    "cv.waitKey(0)\n"
   ]
  },
  {
   "cell_type": "code",
   "execution_count": 10,
   "metadata": {},
   "outputs": [
    {
     "data": {
      "image/png": "[encoded data removed]",
      "text/plain": [
       "<Figure size 640x480 with 1 Axes>"
      ]
     },
     "metadata": {},
     "output_type": "display_data"
    }
   ],
   "source": [
    "hist = cv.calcHist([image] , [0], None, [256] , [0,256])\n",
    "plt.figure()\n",
    "plt.title(\"Grayscale histogram\")\n",
    "plt.xlabel(\"Bins\")\n",
    "plt.ylabel(\"# of pixels\")\n",
    "plt.plot(hist)\n",
    "plt.xlim([0,256])\n",
    "plt.show()"
   ]
  },
  {
   "cell_type": "code",
   "execution_count": 11,
   "metadata": {},
   "outputs": [
    {
     "data": {
      "image/png": "[encoded data removed]",
      "text/plain": [
       "<Figure size 640x480 with 1 Axes>"
      ]
     },
     "metadata": {},
     "output_type": "display_data"
    }
   ],
   "source": [
    "image = cv.imread(\"../DATA/colors.jpg\")\n",
    "chans = cv.split(image)\n",
    "colors = (\"b\", \"g\" , \"r\")\n",
    "plt.figure()\n",
    "plt.title(\"Flattened color histogram\")\n",
    "plt.xlabel(\"Bins\")\n",
    "plt.ylabel(\"# of pixels\")\n",
    "\n",
    "for (chan, color) in zip(chans, colors):\n",
    "    hist = cv.calcHist([chan], [0],None, [256] , [0,256])\n",
    "    plt.plot(hist, color=color)\n",
    "    plt.xlim([0,256])"
   ]
  },
  {
   "cell_type": "markdown",
   "metadata": {},
   "source": [
    "### Smoothing and blurring"
   ]
  },
  {
   "cell_type": "code",
   "execution_count": 14,
   "metadata": {},
   "outputs": [
    {
     "data": {
      "text/plain": [
       "113"
      ]
     },
     "execution_count": 14,
     "metadata": {},
     "output_type": "execute_result"
    }
   ],
   "source": [
    "image = cv.imread(\"../DATA/colors.jpg\")\n",
    "blurred = np.hstack(\n",
    "    [\n",
    "        cv.blur(image, (3,3)),\n",
    "        cv.blur(image, (5,5)),\n",
    "        cv.blur(image, (7,7))\n",
    "    ]\n",
    ")\n",
    "cv.imshow(\"Blurred\" , blurred)\n",
    "cv.waitKey(0)"
   ]
  },
  {
   "cell_type": "code",
   "execution_count": 16,
   "metadata": {},
   "outputs": [
    {
     "data": {
      "text/plain": [
       "113"
      ]
     },
     "execution_count": 16,
     "metadata": {},
     "output_type": "execute_result"
    }
   ],
   "source": [
    "blurred = np.hstack(\n",
    "    [\n",
    "        cv.medianBlur(image, 3),\n",
    "        cv.medianBlur(image, 5),\n",
    "        cv.medianBlur(image, 7)\n",
    "        \n",
    "        \n",
    "    ]\n",
    ")\n",
    "cv.imshow(\"Median Blurred\" , blurred)\n",
    "cv.waitKey(0)"
   ]
  },
  {
   "cell_type": "code",
   "execution_count": null,
   "metadata": {},
   "outputs": [],
   "source": []
  }
 ],
 "metadata": {
  "kernelspec": {
   "display_name": "venv",
   "language": "python",
   "name": "python3"
  },
  "language_info": {
   "codemirror_mode": {
    "name": "ipython",
    "version": 3
   },
   "file_extension": ".py",
   "mimetype": "text/x-python",
   "name": "python",
   "nbconvert_exporter": "python",
   "pygments_lexer": "ipython3",
   "version": "3.12.7"
  }
 },
 "nbformat": 4,
 "nbformat_minor": 2
}
