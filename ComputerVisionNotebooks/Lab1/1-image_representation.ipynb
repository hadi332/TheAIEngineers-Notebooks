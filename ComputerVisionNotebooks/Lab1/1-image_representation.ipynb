{
 "cells": [
  {
   "cell_type": "code",
   "execution_count": 3,
   "metadata": {},
   "outputs": [],
   "source": [
    "import cv2 as cv "
   ]
  },
  {
   "cell_type": "code",
   "execution_count": 2,
   "metadata": {},
   "outputs": [],
   "source": [
    "#read the image\n",
    "image = cv.imread(\"../DATA/image1.jpg\")\n"
   ]
  },
  {
   "cell_type": "code",
   "execution_count": 3,
   "metadata": {},
   "outputs": [
    {
     "name": "stdout",
     "output_type": "stream",
     "text": [
      "[[114 114 112 ... 165 165 165]\n",
      " [114 114 112 ... 165 165 165]\n",
      " [114 114 112 ... 165 165 165]\n",
      " ...\n",
      " [ 63  63  61 ... 211 211 211]\n",
      " [ 63  65  64 ... 216 215 214]\n",
      " [ 63  65  64 ... 216 215 214]]\n"
     ]
    }
   ],
   "source": [
    "#convert the image to grayscale\n",
    "gray = cv.cvtColor(image, cv.COLOR_BGR2GRAY)\n",
    "#print the image array\n",
    "print(gray)\n",
    "\n"
   ]
  },
  {
   "cell_type": "code",
   "execution_count": 4,
   "metadata": {},
   "outputs": [
    {
     "name": "stdout",
     "output_type": "stream",
     "text": [
      "\n",
      "(682, 1024)\n"
     ]
    }
   ],
   "source": [
    "print(\"\")\n",
    "#print the shape of the array which is of the form (height, width, number of channels)\n",
    "print(gray.shape)"
   ]
  },
  {
   "cell_type": "code",
   "execution_count": 7,
   "metadata": {},
   "outputs": [],
   "source": [
    "rgb_image = cv.imread(\"../DATA/rgb_image.jpg\")\n",
    "rgb_image = cv.cvtColor(rgb_image , cv.COLOR_BGR2RGB)"
   ]
  },
  {
   "cell_type": "code",
   "execution_count": 8,
   "metadata": {},
   "outputs": [
    {
     "name": "stdout",
     "output_type": "stream",
     "text": [
      "[[[48 23 19]\n",
      "  [47 22 18]\n",
      "  [49 21 18]\n",
      "  ...\n",
      "  [ 2  3 23]\n",
      "  [ 2  3 23]\n",
      "  [ 2  3 23]]\n",
      "\n",
      " [[47 22 18]\n",
      "  [47 22 18]\n",
      "  [49 21 18]\n",
      "  ...\n",
      "  [ 3  4 24]\n",
      "  [ 3  4 24]\n",
      "  [ 3  4 24]]\n",
      "\n",
      " [[49 21 20]\n",
      "  [48 20 19]\n",
      "  [49 19 17]\n",
      "  ...\n",
      "  [ 3  4 24]\n",
      "  [ 3  4 24]\n",
      "  [ 3  4 24]]\n",
      "\n",
      " ...\n",
      "\n",
      " [[ 9  5 28]\n",
      "  [ 9  5 28]\n",
      "  [ 9  5 28]\n",
      "  ...\n",
      "  [13 10 27]\n",
      "  [12  9 26]\n",
      "  [12  9 26]]\n",
      "\n",
      " [[ 9  5 28]\n",
      "  [ 9  5 28]\n",
      "  [ 9  5 28]\n",
      "  ...\n",
      "  [11  9 23]\n",
      "  [12 10 24]\n",
      "  [13 11 25]]\n",
      "\n",
      " [[ 9  5 28]\n",
      "  [ 9  5 28]\n",
      "  [ 9  5 28]\n",
      "  ...\n",
      "  [14 12 26]\n",
      "  [16 14 28]\n",
      "  [19 17 31]]]\n"
     ]
    }
   ],
   "source": [
    "print(rgb_image)"
   ]
  },
  {
   "cell_type": "code",
   "execution_count": 9,
   "metadata": {},
   "outputs": [
    {
     "data": {
      "text/plain": [
       "(360, 639, 3)"
      ]
     },
     "execution_count": 9,
     "metadata": {},
     "output_type": "execute_result"
    }
   ],
   "source": [
    "rgb_image.shape"
   ]
  },
  {
   "cell_type": "code",
   "execution_count": 10,
   "metadata": {},
   "outputs": [],
   "source": [
    "#read the image\n",
    "image = cv.imread(\"../DATA/colors.jpg\")\n",
    "#convert the image to RGB (images are read in BGR in OpenCV)\n",
    "image = cv.cvtColor(image, cv.COLOR_BGR2RGB)\n",
    "#split the image into its three channels\n",
    "(R,G,B) = cv.split(image)\n",
    "#create named windows for each of the images we are going to display\n",
    "cv.namedWindow(\"Blue\", cv.WINDOW_NORMAL)\n",
    "cv.namedWindow(\"Green\", cv.WINDOW_NORMAL)\n",
    "cv.namedWindow(\"Red\", cv.WINDOW_NORMAL)\n",
    "#display the images\n",
    "cv.imshow(\"Blue\",B)\n",
    "cv.imshow(\"Green\", G)\n",
    "cv.imshow(\"Red\", R)\n",
    "#write the images to disk\n",
    "cv.imwrite(\"channel_red.jpg\", R)\n",
    "cv.imwrite(\"channel_green.jpg\", G)\n",
    "cv.imwrite(\"channel_blue.jpg\", B)\n",
    "if cv.waitKey(0):\n",
    "    cv.destroyAllWindows()"
   ]
  },
  {
   "cell_type": "code",
   "execution_count": 4,
   "metadata": {},
   "outputs": [
    {
     "name": "stdout",
     "output_type": "stream",
     "text": [
      "At pixel (0,0), - Red: 42 , Green: 141, Blue 12\n"
     ]
    }
   ],
   "source": [
    "#read the image\n",
    "image = cv.imread(\"../DATA/colors.jpg\")\n",
    "#convert the image to RGB (images are read in BGR in OpenCV)\n",
    "(b,g,r) = image[0,0]\n",
    "print(f\"At pixel (0,0), - Red: {r} , Green: {g}, Blue {b}\")"
   ]
  },
  {
   "cell_type": "code",
   "execution_count": 5,
   "metadata": {},
   "outputs": [
    {
     "name": "stdout",
     "output_type": "stream",
     "text": [
      "At pixel (0,0), - Red: 255 , Green: 0, Blue 0\n"
     ]
    }
   ],
   "source": [
    "image[0,0] = (0,0, 255)\n",
    "(b,g,r) = image[0,0]\n",
    "print(f\"At pixel (0,0), - Red: {r} , Green: {g}, Blue {b}\")"
   ]
  },
  {
   "cell_type": "code",
   "execution_count": 6,
   "metadata": {},
   "outputs": [],
   "source": [
    "corner = image[0:100, 0:100]\n",
    "cv.imshow(\"Corner\", corner)"
   ]
  },
  {
   "cell_type": "code",
   "execution_count": 7,
   "metadata": {},
   "outputs": [
    {
     "data": {
      "text/plain": [
       "113"
      ]
     },
     "execution_count": 7,
     "metadata": {},
     "output_type": "execute_result"
    },
    {
     "ename": "",
     "evalue": "",
     "output_type": "error",
     "traceback": [
      "\u001b[1;31mThe Kernel crashed while executing code in the current cell or a previous cell. \n",
      "\u001b[1;31mPlease review the code in the cell(s) to identify a possible cause of the failure. \n",
      "\u001b[1;31mClick <a href='https://aka.ms/vscodeJupyterKernelCrash'>here</a> for more info. \n",
      "\u001b[1;31mView Jupyter <a href='command:jupyter.viewOutput'>log</a> for further details."
     ]
    }
   ],
   "source": [
    "image[0:100, 0:100] = (0, 255, 0) \n",
    "cv.imshow(\"Updated\", image)\n",
    "cv.waitKey(0)"
   ]
  },
  {
   "cell_type": "markdown",
   "metadata": {},
   "source": [
    "## Drawing"
   ]
  },
  {
   "cell_type": "code",
   "execution_count": 2,
   "metadata": {},
   "outputs": [],
   "source": [
    "import numpy as np\n",
    "import cv2 as cv\n",
    "canvas = np.zeros((300, 300, 3), dtype=\"uint8\")"
   ]
  },
  {
   "cell_type": "code",
   "execution_count": 3,
   "metadata": {},
   "outputs": [
    {
     "data": {
      "text/plain": [
       "113"
      ]
     },
     "execution_count": 3,
     "metadata": {},
     "output_type": "execute_result"
    }
   ],
   "source": [
    "green = (0,255,0)\n",
    "cv.line(canvas, (0,0), (300,300), green)\n",
    "cv.imshow(\"Canvas\" , canvas)\n",
    "cv.waitKey(0)"
   ]
  },
  {
   "cell_type": "code",
   "execution_count": 4,
   "metadata": {},
   "outputs": [
    {
     "data": {
      "text/plain": [
       "113"
      ]
     },
     "execution_count": 4,
     "metadata": {},
     "output_type": "execute_result"
    }
   ],
   "source": [
    "red = (0,0,255)\n",
    "cv.line(canvas, (300,0), (0,300), red, 3)\n",
    "cv.imshow(\"Canvas\" , canvas)\n",
    "cv.waitKey(0)"
   ]
  },
  {
   "cell_type": "code",
   "execution_count": 6,
   "metadata": {},
   "outputs": [
    {
     "data": {
      "text/plain": [
       "113"
      ]
     },
     "execution_count": 6,
     "metadata": {},
     "output_type": "execute_result"
    }
   ],
   "source": [
    "cv.rectangle(canvas, (10, 10), (60, 60), green)\n",
    "cv.imshow(\"Canvas\", canvas)\n",
    "cv.waitKey(0)"
   ]
  },
  {
   "cell_type": "code",
   "execution_count": 7,
   "metadata": {},
   "outputs": [
    {
     "data": {
      "text/plain": [
       "113"
      ]
     },
     "execution_count": 7,
     "metadata": {},
     "output_type": "execute_result"
    }
   ],
   "source": [
    "cv.rectangle(canvas, (50, 200), (200, 225), red, 5)\n",
    "cv.imshow(\"Canvas\", canvas)\n",
    "cv.waitKey(0)\n",
    "\n"
   ]
  },
  {
   "cell_type": "code",
   "execution_count": 8,
   "metadata": {},
   "outputs": [
    {
     "data": {
      "text/plain": [
       "113"
      ]
     },
     "execution_count": 8,
     "metadata": {},
     "output_type": "execute_result"
    }
   ],
   "source": [
    "blue = (255, 0, 0)\n",
    "cv.rectangle(canvas, (200, 50), (225, 125), blue, -1)\n",
    "cv.imshow(\"Canvas\", canvas)\n",
    "cv.waitKey(0)"
   ]
  },
  {
   "cell_type": "code",
   "execution_count": 9,
   "metadata": {},
   "outputs": [
    {
     "data": {
      "text/plain": [
       "113"
      ]
     },
     "execution_count": 9,
     "metadata": {},
     "output_type": "execute_result"
    }
   ],
   "source": [
    "\n",
    "canvas = np.zeros((300, 300, 3), dtype = \"uint8\")\n",
    "(centerX, centerY) = (canvas.shape[1] // 2, canvas.shape[0] // 2)\n",
    "white = (255, 255, 255)\n",
    "for r in range(0, 175, 25):\n",
    "    cv.circle(canvas, (centerX, centerY), r, white)\n",
    "\n",
    "cv.imshow(\"Canvas\", canvas)\n",
    "cv.waitKey(0)"
   ]
  },
  {
   "cell_type": "code",
   "execution_count": 10,
   "metadata": {},
   "outputs": [
    {
     "data": {
      "text/plain": [
       "113"
      ]
     },
     "execution_count": 10,
     "metadata": {},
     "output_type": "execute_result"
    },
    {
     "ename": "",
     "evalue": "",
     "output_type": "error",
     "traceback": [
      "\u001b[1;31mThe Kernel crashed while executing code in the current cell or a previous cell. \n",
      "\u001b[1;31mPlease review the code in the cell(s) to identify a possible cause of the failure. \n",
      "\u001b[1;31mClick <a href='https://aka.ms/vscodeJupyterKernelCrash'>here</a> for more info. \n",
      "\u001b[1;31mView Jupyter <a href='command:jupyter.viewOutput'>log</a> for further details."
     ]
    }
   ],
   "source": [
    "for i in range(0, 25):\n",
    "    radius = np.random.randint(5, high = 200)\n",
    "    color = np.random.randint(0, high = 256, size = (3,)).tolist()\n",
    "    pt = np.random.randint(0, high = 300, size = (2,))\n",
    "    cv.circle(canvas, tuple(pt), radius, color, -1)\n",
    "cv.imshow(\"Canvas\", canvas)\n",
    "cv.waitKey(0)"
   ]
  },
  {
   "cell_type": "code",
   "execution_count": null,
   "metadata": {},
   "outputs": [],
   "source": []
  }
 ],
 "metadata": {
  "kernelspec": {
   "display_name": "venv",
   "language": "python",
   "name": "python3"
  },
  "language_info": {
   "codemirror_mode": {
    "name": "ipython",
    "version": 3
   },
   "file_extension": ".py",
   "mimetype": "text/x-python",
   "name": "python",
   "nbconvert_exporter": "python",
   "pygments_lexer": "ipython3",
   "version": "3.12.4"
  }
 },
 "nbformat": 4,
 "nbformat_minor": 2
}
